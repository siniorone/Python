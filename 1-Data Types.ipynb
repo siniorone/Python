{
 "cells": [
  {
   "cell_type": "markdown",
   "id": "5e3c5491",
   "metadata": {},
   "source": [
    "# Data Types"
   ]
  },
  {
   "cell_type": "markdown",
   "id": "27e09fd3",
   "metadata": {},
   "source": [
    "### Variable Names:"
   ]
  },
  {
   "cell_type": "markdown",
   "id": "6dd4ef20",
   "metadata": {},
   "source": [
    "### Rules:\n",
    "   * no number in front\n",
    "   * no space\n",
    "   * no symboles \n",
    "   * no word with special meaning in python : str list\n",
    "   "
   ]
  },
  {
   "cell_type": "markdown",
   "id": "6d443466",
   "metadata": {},
   "source": [
    "Python uses **Dynamic Typing**  but variable in other languages are **Statically-Typed**  "
   ]
  },
  {
   "cell_type": "markdown",
   "id": "4cc2df53",
   "metadata": {},
   "source": [
    "### Basic Data Types"
   ]
  },
  {
   "cell_type": "markdown",
   "id": "b5edde4d",
   "metadata": {},
   "source": [
    "* Integers\n",
    "* Floating point\n",
    "* Strings\n",
    "* Lists\n",
    "* Dictionaries : unordered key,value pairs : `{\"key1\": \"value1\",\"key2\": \"value2\",\"key3\": \"value3\"}`\n",
    "* Tuples : ordered immutable sequence of objects : `(71,'sina',20.34)`\n",
    "* Sets : unordered collection of unique objects: `{\"a\",\"b\"}`\n",
    "* Booleans \n"
   ]
  },
  {
   "cell_type": "markdown",
   "id": "d131f668",
   "metadata": {},
   "source": [
    "### Float"
   ]
  },
  {
   "cell_type": "code",
   "execution_count": 3,
   "id": "60bb9d11",
   "metadata": {},
   "outputs": [],
   "source": [
    "my_float = 9.75"
   ]
  },
  {
   "cell_type": "code",
   "execution_count": 4,
   "id": "06433ee9",
   "metadata": {},
   "outputs": [
    {
     "data": {
      "text/plain": [
       "float"
      ]
     },
     "execution_count": 4,
     "metadata": {},
     "output_type": "execute_result"
    }
   ],
   "source": [
    "type(my_float)"
   ]
  },
  {
   "cell_type": "markdown",
   "id": "2d9c338d",
   "metadata": {},
   "source": [
    "### Integers"
   ]
  },
  {
   "cell_type": "code",
   "execution_count": 5,
   "id": "59253566",
   "metadata": {},
   "outputs": [],
   "source": [
    "my_int = 200"
   ]
  },
  {
   "cell_type": "code",
   "execution_count": 6,
   "id": "50218927",
   "metadata": {},
   "outputs": [
    {
     "data": {
      "text/plain": [
       "40000"
      ]
     },
     "execution_count": 6,
     "metadata": {},
     "output_type": "execute_result"
    }
   ],
   "source": [
    "# Power\n",
    "my_int ** 2"
   ]
  },
  {
   "cell_type": "code",
   "execution_count": 7,
   "id": "56f3ef7d",
   "metadata": {},
   "outputs": [
    {
     "data": {
      "text/plain": [
       "2"
      ]
     },
     "execution_count": 7,
     "metadata": {},
     "output_type": "execute_result"
    }
   ],
   "source": [
    "# Remainder\n",
    "my_int % 3"
   ]
  },
  {
   "cell_type": "code",
   "execution_count": 8,
   "id": "babe6b6d",
   "metadata": {},
   "outputs": [
    {
     "data": {
      "text/plain": [
       "100"
      ]
     },
     "execution_count": 8,
     "metadata": {},
     "output_type": "execute_result"
    }
   ],
   "source": [
    "# floor division\n",
    "my_int // 2 "
   ]
  },
  {
   "cell_type": "markdown",
   "id": "fbd89386",
   "metadata": {},
   "source": [
    "**why doesn't `0.1 + 0.2 - 0.3` equal `0.0`**"
   ]
  },
  {
   "cell_type": "code",
   "execution_count": 63,
   "id": "12e382fb",
   "metadata": {},
   "outputs": [
    {
     "data": {
      "text/plain": [
       "False"
      ]
     },
     "execution_count": 63,
     "metadata": {},
     "output_type": "execute_result"
    }
   ],
   "source": [
    "0.1 + 0.2 - 0.3 == 0.0"
   ]
  },
  {
   "cell_type": "markdown",
   "id": "d1a8c78e",
   "metadata": {},
   "source": [
    "**check out :**'https://docs.python.org/2/tutorial/floatingpoint.html'"
   ]
  },
  {
   "cell_type": "markdown",
   "id": "ef5b5263",
   "metadata": {},
   "source": [
    "### Boolean"
   ]
  },
  {
   "cell_type": "code",
   "execution_count": 11,
   "id": "f95832ff",
   "metadata": {},
   "outputs": [],
   "source": [
    "condition = True"
   ]
  },
  {
   "cell_type": "code",
   "execution_count": 12,
   "id": "680f150d",
   "metadata": {},
   "outputs": [],
   "source": [
    "condition = False"
   ]
  },
  {
   "cell_type": "markdown",
   "id": "3564d77a",
   "metadata": {},
   "source": [
    "### String"
   ]
  },
  {
   "cell_type": "markdown",
   "id": "1a903611",
   "metadata": {},
   "source": [
    "ordered sequences: indexing and slicing \n",
    "`string[start:stop:step]`\n",
    "Note: strings are **immutable**! Most python objects (`booleans`, `integers`, `floats`, `strings`, and `tuples`) are immutable. This means that after you create the object and assign some value to it, you can’t modify that value."
   ]
  },
  {
   "cell_type": "code",
   "execution_count": 13,
   "id": "033a93ae",
   "metadata": {},
   "outputs": [],
   "source": [
    "my_string=\"This is my practice to learn python\""
   ]
  },
  {
   "cell_type": "code",
   "execution_count": 18,
   "id": "6d006242",
   "metadata": {},
   "outputs": [
    {
     "data": {
      "text/plain": [
       "'This is my practice '"
      ]
     },
     "execution_count": 18,
     "metadata": {},
     "output_type": "execute_result"
    }
   ],
   "source": [
    "my_string[:20]"
   ]
  },
  {
   "cell_type": "code",
   "execution_count": 20,
   "id": "f03694ef",
   "metadata": {},
   "outputs": [
    {
     "data": {
      "text/plain": [
       "'to learn python'"
      ]
     },
     "execution_count": 20,
     "metadata": {},
     "output_type": "execute_result"
    }
   ],
   "source": [
    "my_string[20:]"
   ]
  },
  {
   "cell_type": "code",
   "execution_count": 22,
   "id": "b6f5ff99",
   "metadata": {},
   "outputs": [
    {
     "data": {
      "text/plain": [
       "'This is my practice to learn python'"
      ]
     },
     "execution_count": 22,
     "metadata": {},
     "output_type": "execute_result"
    }
   ],
   "source": [
    "my_string[:]"
   ]
  },
  {
   "cell_type": "code",
   "execution_count": 23,
   "id": "1c71d9ac",
   "metadata": {},
   "outputs": [
    {
     "data": {
      "text/plain": [
       "'Tssyrteoenyo'"
      ]
     },
     "execution_count": 23,
     "metadata": {},
     "output_type": "execute_result"
    }
   ],
   "source": [
    "my_string[::3]"
   ]
  },
  {
   "cell_type": "code",
   "execution_count": 24,
   "id": "2bfc6b8d",
   "metadata": {},
   "outputs": [
    {
     "data": {
      "text/plain": [
       "'h   ai  a tn'"
      ]
     },
     "execution_count": 24,
     "metadata": {},
     "output_type": "execute_result"
    }
   ],
   "source": [
    "my_string[1::3]"
   ]
  },
  {
   "cell_type": "code",
   "execution_count": 26,
   "id": "34d86085",
   "metadata": {},
   "outputs": [
    {
     "data": {
      "text/plain": [
       "'iimpcctlrph'"
      ]
     },
     "execution_count": 26,
     "metadata": {},
     "output_type": "execute_result"
    }
   ],
   "source": [
    "my_string[2::3]"
   ]
  },
  {
   "cell_type": "code",
   "execution_count": 28,
   "id": "495ffd7a",
   "metadata": {},
   "outputs": [
    {
     "data": {
      "text/plain": [
       "'python'"
      ]
     },
     "execution_count": 28,
     "metadata": {},
     "output_type": "execute_result"
    }
   ],
   "source": [
    "my_string[-6:]"
   ]
  },
  {
   "cell_type": "code",
   "execution_count": 60,
   "id": "f0c8f389",
   "metadata": {},
   "outputs": [
    {
     "data": {
      "text/plain": [
       "'nohtyp nrael ot ecitcarp ym si sihT'"
      ]
     },
     "execution_count": 60,
     "metadata": {},
     "output_type": "execute_result"
    }
   ],
   "source": [
    "my_string[-1::-1]"
   ]
  },
  {
   "cell_type": "code",
   "execution_count": 62,
   "id": "648bdc9f",
   "metadata": {},
   "outputs": [
    {
     "ename": "TypeError",
     "evalue": "'str' object does not support item assignment",
     "output_type": "error",
     "traceback": [
      "\u001b[0;31m---------------------------------------------------------------------------\u001b[0m",
      "\u001b[0;31mTypeError\u001b[0m                                 Traceback (most recent call last)",
      "\u001b[0;32m<ipython-input-62-97ee750a5654>\u001b[0m in \u001b[0;36m<module>\u001b[0;34m\u001b[0m\n\u001b[1;32m      1\u001b[0m \u001b[0;31m#strings are immutable!\u001b[0m\u001b[0;34m\u001b[0m\u001b[0;34m\u001b[0m\u001b[0;34m\u001b[0m\u001b[0m\n\u001b[0;32m----> 2\u001b[0;31m \u001b[0mmy_string\u001b[0m\u001b[0;34m[\u001b[0m\u001b[0;36m0\u001b[0m\u001b[0;34m]\u001b[0m \u001b[0;34m=\u001b[0m \u001b[0;34m\"S\"\u001b[0m\u001b[0;34m\u001b[0m\u001b[0;34m\u001b[0m\u001b[0m\n\u001b[0m",
      "\u001b[0;31mTypeError\u001b[0m: 'str' object does not support item assignment"
     ]
    }
   ],
   "source": [
    "#strings are immutable!\n",
    "my_string[0] = \"S\""
   ]
  },
  {
   "cell_type": "markdown",
   "id": "b05e5bc0",
   "metadata": {},
   "source": [
    "### List"
   ]
  },
  {
   "cell_type": "code",
   "execution_count": 32,
   "id": "7302e2ac",
   "metadata": {},
   "outputs": [],
   "source": [
    "my_list = [-5, -4, -3, -2, -1, 0, 1, 2, 3, 4, 5]"
   ]
  },
  {
   "cell_type": "code",
   "execution_count": 33,
   "id": "85a290ee",
   "metadata": {},
   "outputs": [
    {
     "data": {
      "text/plain": [
       "[-5, -4, -3, -2, -1]"
      ]
     },
     "execution_count": 33,
     "metadata": {},
     "output_type": "execute_result"
    }
   ],
   "source": [
    "my_list[:5]"
   ]
  },
  {
   "cell_type": "code",
   "execution_count": 34,
   "id": "8c4719f9",
   "metadata": {},
   "outputs": [
    {
     "data": {
      "text/plain": [
       "[0, 1, 2, 3, 4, 5]"
      ]
     },
     "execution_count": 34,
     "metadata": {},
     "output_type": "execute_result"
    }
   ],
   "source": [
    "my_list[5:]"
   ]
  },
  {
   "cell_type": "code",
   "execution_count": 35,
   "id": "73572515",
   "metadata": {},
   "outputs": [
    {
     "data": {
      "text/plain": [
       "[5, 4, 3, 2, 1, 0, -1, -2, -3, -4, -5]"
      ]
     },
     "execution_count": 35,
     "metadata": {},
     "output_type": "execute_result"
    }
   ],
   "source": [
    "my_list[-1::-1]"
   ]
  },
  {
   "cell_type": "code",
   "execution_count": 39,
   "id": "2f17e55e",
   "metadata": {},
   "outputs": [
    {
     "data": {
      "text/plain": [
       "[-100, -4, -3, -2, -1, 0, 1, 2, 3, 4, 5]"
      ]
     },
     "execution_count": 39,
     "metadata": {},
     "output_type": "execute_result"
    }
   ],
   "source": [
    "my_list[0]=-100\n",
    "my_list"
   ]
  },
  {
   "cell_type": "markdown",
   "id": "9ab118c8",
   "metadata": {},
   "source": [
    "### Dictionary"
   ]
  },
  {
   "cell_type": "code",
   "execution_count": 41,
   "id": "a2aac9bf",
   "metadata": {},
   "outputs": [
    {
     "data": {
      "text/plain": [
       "{'A': 1, 'B': 2, 'C': 3}"
      ]
     },
     "execution_count": 41,
     "metadata": {},
     "output_type": "execute_result"
    }
   ],
   "source": [
    "my_dict = {\"A\": 1, \"B\": 2, \"C\": 3}\n",
    "my_dict"
   ]
  },
  {
   "cell_type": "code",
   "execution_count": 42,
   "id": "f7460c8d",
   "metadata": {},
   "outputs": [
    {
     "data": {
      "text/plain": [
       "2"
      ]
     },
     "execution_count": 42,
     "metadata": {},
     "output_type": "execute_result"
    }
   ],
   "source": [
    "my_dict[\"B\"]"
   ]
  },
  {
   "cell_type": "markdown",
   "id": "d69a6475",
   "metadata": {},
   "source": [
    "### Tuples "
   ]
  },
  {
   "cell_type": "code",
   "execution_count": 53,
   "id": "b2f26170",
   "metadata": {},
   "outputs": [],
   "source": [
    "my_tuple = ('a', 'b', 'c')"
   ]
  },
  {
   "cell_type": "code",
   "execution_count": 54,
   "id": "fd6cdb00",
   "metadata": {},
   "outputs": [
    {
     "data": {
      "text/plain": [
       "'c'"
      ]
     },
     "execution_count": 54,
     "metadata": {},
     "output_type": "execute_result"
    }
   ],
   "source": [
    "my_tuple[2]"
   ]
  },
  {
   "cell_type": "code",
   "execution_count": 55,
   "id": "79a6fdac",
   "metadata": {},
   "outputs": [
    {
     "ename": "TypeError",
     "evalue": "'tuple' object does not support item assignment",
     "output_type": "error",
     "traceback": [
      "\u001b[0;31m---------------------------------------------------------------------------\u001b[0m",
      "\u001b[0;31mTypeError\u001b[0m                                 Traceback (most recent call last)",
      "\u001b[0;32m<ipython-input-55-5252d3fba775>\u001b[0m in \u001b[0;36m<module>\u001b[0;34m\u001b[0m\n\u001b[0;32m----> 1\u001b[0;31m \u001b[0mmy_tuple\u001b[0m\u001b[0;34m[\u001b[0m\u001b[0;36m2\u001b[0m\u001b[0;34m]\u001b[0m \u001b[0;34m=\u001b[0m \u001b[0;34m'd'\u001b[0m\u001b[0;34m\u001b[0m\u001b[0;34m\u001b[0m\u001b[0m\n\u001b[0m",
      "\u001b[0;31mTypeError\u001b[0m: 'tuple' object does not support item assignment"
     ]
    }
   ],
   "source": [
    "my_tuple[2] = 'd'"
   ]
  },
  {
   "cell_type": "markdown",
   "id": "02b880e3",
   "metadata": {},
   "source": [
    "**TypeError: 'tuple' object does not support item assignment**"
   ]
  },
  {
   "cell_type": "markdown",
   "id": "88a835b2",
   "metadata": {},
   "source": [
    "### Set"
   ]
  },
  {
   "cell_type": "code",
   "execution_count": 58,
   "id": "f51ad8f6",
   "metadata": {},
   "outputs": [
    {
     "data": {
      "text/plain": [
       "{1, 2, 3, 5, 8, 13, 21}"
      ]
     },
     "execution_count": 58,
     "metadata": {},
     "output_type": "execute_result"
    }
   ],
   "source": [
    "my_set = {1,1,2,3,5,8,13,21}\n",
    "my_set"
   ]
  },
  {
   "cell_type": "code",
   "execution_count": 73,
   "id": "8087164b",
   "metadata": {},
   "outputs": [
    {
     "data": {
      "text/plain": [
       "{1, 2, 3, 5, 8, 13, 21, 34}"
      ]
     },
     "execution_count": 73,
     "metadata": {},
     "output_type": "execute_result"
    }
   ],
   "source": [
    "my_set.add(34)\n",
    "my_set"
   ]
  },
  {
   "cell_type": "markdown",
   "id": "1dee4b65",
   "metadata": {},
   "source": [
    "### booleans integers floats strings  and tuples are immutable\n",
    "\n",
    "Immutable objects don't have the same id, and as a mater of fact this is not true for any type of objects that you define separately. Generally speaking, every time you define an object in Python, you'll create a new object with a new identity. However, for the sake of optimization (mostly) there are some exceptions for small integers (between `-5` and `256`) and interned strings, with a special length --usually less than `20 characters`--* which are singletons and have the same id (actually one object with multiple pointers)"
   ]
  },
  {
   "cell_type": "code",
   "execution_count": 74,
   "id": "a5d6c337",
   "metadata": {},
   "outputs": [
    {
     "name": "stdout",
     "output_type": "stream",
     "text": [
      "94633233434144\n",
      "94633233434144\n"
     ]
    }
   ],
   "source": [
    "a = 200\n",
    "b = 200\n",
    "print(id(a))\n",
    "print(id(b))"
   ]
  },
  {
   "cell_type": "code",
   "execution_count": 70,
   "id": "9db47ef1",
   "metadata": {},
   "outputs": [
    {
     "name": "stdout",
     "output_type": "stream",
     "text": [
      "140322221771856\n",
      "140322221770896\n"
     ]
    }
   ],
   "source": [
    "a = 400\n",
    "b = 400\n",
    "print(id(a))\n",
    "print(id(b))"
   ]
  },
  {
   "cell_type": "code",
   "execution_count": 71,
   "id": "67763771",
   "metadata": {},
   "outputs": [
    {
     "name": "stdout",
     "output_type": "stream",
     "text": [
      "140322221219440\n",
      "140322221219440\n"
     ]
    }
   ],
   "source": [
    "a = \"sina\"\n",
    "b = \"sina\"\n",
    "print(id(a))\n",
    "print(id(b))"
   ]
  },
  {
   "cell_type": "code",
   "execution_count": 76,
   "id": "7a9d2cdb",
   "metadata": {},
   "outputs": [
    {
     "name": "stdout",
     "output_type": "stream",
     "text": [
      "140322221269488\n",
      "140322221269712\n"
     ]
    }
   ],
   "source": [
    "a = \"booleans integers floats strings  and tuples are immutable\"\n",
    "b = \"booleans integers floats strings  and tuples are immutable\"\n",
    "print(id(a))\n",
    "print(id(b))"
   ]
  },
  {
   "cell_type": "markdown",
   "id": "076cec8f",
   "metadata": {},
   "source": [
    "* https://www.educative.io/edpresso/why-are-strings-in-python-immutable\n",
    "* https://stackoverflow.com/questions/38189660/two-variables-in-python-have-same-id-but-not-lists-or-tuples"
   ]
  },
  {
   "cell_type": "code",
   "execution_count": null,
   "id": "121fa5aa",
   "metadata": {},
   "outputs": [],
   "source": []
  }
 ],
 "metadata": {
  "kernelspec": {
   "display_name": "Python 3",
   "language": "python",
   "name": "python3"
  },
  "language_info": {
   "codemirror_mode": {
    "name": "ipython",
    "version": 3
   },
   "file_extension": ".py",
   "mimetype": "text/x-python",
   "name": "python",
   "nbconvert_exporter": "python",
   "pygments_lexer": "ipython3",
   "version": "3.8.8"
  }
 },
 "nbformat": 4,
 "nbformat_minor": 5
}
